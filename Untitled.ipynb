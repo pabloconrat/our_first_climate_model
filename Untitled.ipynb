{
 "cells": [
  {
   "cell_type": "code",
   "execution_count": 9,
   "metadata": {},
   "outputs": [
    {
     "name": "stdout",
     "output_type": "stream",
     "text": [
      "iteration, dtau, r, t, s_dir, r_dir, t_dir  0 0.00390625 0.001951219512195122 0.9980487804878049 0.006817822334601144 0.0038976725109076604 0.9922027587890625 \n",
      "\n",
      "iteration, dtau, r, t, s_dir, r_dir, t_dir  1 0.0078125 0.0038948393378773127 0.9961051606621226 0.019383923113522453 0.007765920432850968 0.9844663145486265 \n",
      "\n",
      "iteration, dtau, r, t, s_dir, r_dir, t_dir  2 0.015625 0.007759456838021338 0.9922405431619784 0.04991666957086001 0.015419778666606251 0.9691739244809553 \n",
      "\n",
      "iteration, dtau, r, t, s_dir, r_dir, t_dir  3 0.03125 0.015399422521655432 0.9846005774783442 0.1205553186858016 0.03040285409825302 0.9392980958938164 \n",
      "\n",
      "iteration, dtau, r, t, s_dir, r_dir, t_dir  4 0.0625 0.030331753554502346 0.969668246445497 0.2756943663685743 0.05911621252248504 0.8822809129497491 \n",
      "\n",
      "iteration, dtau, r, t, s_dir, r_dir, t_dir  5 0.125 0.05887764489420415 0.9411223551057945 0.5924620840457266 0.11187529420272313 0.7784196093554427 \n",
      "\n",
      "iteration, dtau, r, t, s_dir, r_dir, t_dir  6 0.25 0.11120764552562959 0.8887923544743676 1.163695717152802 0.2011493446882619 0.6059370882290801 \n",
      "\n",
      "iteration, dtau, r, t, s_dir, r_dir, t_dir  7 0.5 0.20015637216575344 0.7998436278342409 1.9758498191305043 0.3300190593248662 0.367159754891536 \n",
      "\n",
      "iteration, dtau, r, t, s_dir, r_dir, t_dir  8 1.0 0.33355048859934516 0.6664495114006435 2.664781445099732 0.4678086285325291 0.1348062856120128 \n",
      "\n",
      "iteration, dtau, r, t, s_dir, r_dir, t_dir  9 2.0 0.5002442598925161 0.49975574010746104 2.6785700997260458 0.5521201967292262 0.01817273464050757 \n",
      "\n"
     ]
    }
   ],
   "source": [
    "mu_s = 0.5\n",
    "dtau = 2 / 2**10\n",
    "r = 0.5 * dtau\n",
    "t = 1-r\n",
    "r_dir = dtau/mu_s * 0.5\n",
    "s_dir = r_dir\n",
    "t_dir = 1 - dtau/mu_s\n",
    "\n",
    "for i in range(10):\n",
    "    one_minus_rsq = (1 - r * r)\n",
    "    r_new = r + (r * t * t)/one_minus_rsq\n",
    "    t_new = (t * t)/one_minus_rsq\n",
    "\n",
    "    t_dir_new = t_dir**2\n",
    "    s_dir_new = (t * s_dir + t_dir * r_dir + r * t)/one_minus_rsq + t_dir * s_dir\n",
    "    r_dir_new = (t_dir * r + t * t_dir * r)/one_minus_rsq + r_dir\n",
    "\n",
    "    r = r_new\n",
    "    t = t_new\n",
    "\n",
    "    t_dir = t_dir_new\n",
    "    s_dir = s_dir_new\n",
    "    r_dir = r_dir_new\n",
    "\n",
    "    dtau = 2 * dtau\n",
    "    print(\"iteration, dtau, r, t, s_dir, r_dir, t_dir \", i, dtau, r, t, s_dir, r_dir, t_dir, \"\\n\")"
   ]
  },
  {
   "cell_type": "code",
   "execution_count": null,
   "metadata": {},
   "outputs": [],
   "source": []
  }
 ],
 "metadata": {
  "kernelspec": {
   "display_name": "Python 3",
   "language": "python",
   "name": "python3"
  },
  "language_info": {
   "codemirror_mode": {
    "name": "ipython",
    "version": 3
   },
   "file_extension": ".py",
   "mimetype": "text/x-python",
   "name": "python",
   "nbconvert_exporter": "python",
   "pygments_lexer": "ipython3",
   "version": "3.7.3"
  }
 },
 "nbformat": 4,
 "nbformat_minor": 4
}
